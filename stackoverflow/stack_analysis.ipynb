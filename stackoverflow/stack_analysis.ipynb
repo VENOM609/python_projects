{
 "metadata": {
  "language_info": {
   "codemirror_mode": {
    "name": "ipython",
    "version": 3
   },
   "file_extension": ".py",
   "mimetype": "text/x-python",
   "name": "python",
   "nbconvert_exporter": "python",
   "pygments_lexer": "ipython3",
   "version": "3.8.3-final"
  },
  "orig_nbformat": 2,
  "kernelspec": {
   "name": "Python 3.8.3 64-bit ('Anaconda3': conda)",
   "display_name": "Python 3.8.3 64-bit ('Anaconda3': conda)",
   "metadata": {
    "interpreter": {
     "hash": "c0f70214c0dd213f07f54ee5d6e0ea644bdbba35113c9bfe8aaa0d1db03ad5dd"
    }
   }
  }
 },
 "nbformat": 4,
 "nbformat_minor": 2,
 "cells": [
  {
   "cell_type": "code",
   "execution_count": 1,
   "metadata": {},
   "outputs": [],
   "source": [
    "import pandas as pd"
   ]
  },
  {
   "cell_type": "code",
   "execution_count": 2,
   "metadata": {},
   "outputs": [
    {
     "output_type": "execute_result",
     "data": {
      "text/plain": "       Respondent MainBranch Hobbyist  Age Age1stCode CompFreq  CompTotal  \\\n64451       64104        NaN      Yes  NaN         19      NaN        NaN   \n64452       64236        NaN      Yes  NaN        NaN      NaN        NaN   \n64453       64330        NaN      Yes  NaN          5      NaN        NaN   \n64454       64480        NaN      Yes  NaN         21      NaN        NaN   \n64455       64567        NaN      Yes  NaN        NaN      NaN        NaN   \n64456       64858        NaN      Yes  NaN         16      NaN        NaN   \n64457       64867        NaN      Yes  NaN        NaN      NaN        NaN   \n64458       64898        NaN      Yes  NaN        NaN      NaN        NaN   \n64459       64925        NaN      Yes  NaN        NaN      NaN        NaN   \n64460       65112        NaN      Yes  NaN        NaN      NaN        NaN   \n\n       ConvertedComp        Country CurrencyDesc  ... SurveyEase SurveyLength  \\\n64451            NaN         Poland          NaN  ...        NaN          NaN   \n64452            NaN          India          NaN  ...        NaN          NaN   \n64453            NaN       Thailand          NaN  ...        NaN          NaN   \n64454            NaN        Morocco          NaN  ...        NaN          NaN   \n64455            NaN    Netherlands          NaN  ...        NaN          NaN   \n64456            NaN  United States          NaN  ...        NaN          NaN   \n64457            NaN        Morocco          NaN  ...        NaN          NaN   \n64458            NaN       Viet Nam          NaN  ...        NaN          NaN   \n64459            NaN         Poland          NaN  ...        NaN          NaN   \n64460            NaN          Spain          NaN  ...        NaN          NaN   \n\n      Trans                                     UndergradMajor  \\\n64451   NaN  Another engineering discipline (such as civil,...   \n64452   NaN                                                NaN   \n64453   NaN                                                NaN   \n64454   NaN                                                NaN   \n64455   NaN                                                NaN   \n64456   NaN  Computer science, computer engineering, or sof...   \n64457   NaN                                                NaN   \n64458   NaN                                                NaN   \n64459   NaN                                                NaN   \n64460   NaN  Computer science, computer engineering, or sof...   \n\n            WebframeDesireNextYear                      WebframeWorkedWith  \\\n64451                          NaN                                     NaN   \n64452                          NaN                                     NaN   \n64453                          NaN                                     NaN   \n64454                          NaN                                     NaN   \n64455                          NaN                            ASP.NET Core   \n64456                          NaN                                     NaN   \n64457                          NaN                                     NaN   \n64458                          NaN                                     NaN   \n64459  Angular;Angular.js;React.js                                     NaN   \n64460          ASP.NET Core;jQuery  Angular;Angular.js;ASP.NET Core;jQuery   \n\n                                 WelcomeChange WorkWeekHrs YearsCode  \\\n64451                                      NaN         NaN         2   \n64452                                      NaN         NaN       NaN   \n64453                                      NaN         NaN         3   \n64454  Just as welcome now as I felt last year         NaN         3   \n64455                                      NaN         NaN       NaN   \n64456                                      NaN         NaN        10   \n64457                                      NaN         NaN       NaN   \n64458                                      NaN         NaN       NaN   \n64459                                      NaN         NaN       NaN   \n64460                                      NaN         NaN       NaN   \n\n           YearsCodePro  \n64451               NaN  \n64452               NaN  \n64453               NaN  \n64454               NaN  \n64455               NaN  \n64456  Less than 1 year  \n64457               NaN  \n64458               NaN  \n64459               NaN  \n64460               NaN  \n\n[10 rows x 61 columns]",
      "text/html": "<div>\n<style scoped>\n    .dataframe tbody tr th:only-of-type {\n        vertical-align: middle;\n    }\n\n    .dataframe tbody tr th {\n        vertical-align: top;\n    }\n\n    .dataframe thead th {\n        text-align: right;\n    }\n</style>\n<table border=\"1\" class=\"dataframe\">\n  <thead>\n    <tr style=\"text-align: right;\">\n      <th></th>\n      <th>Respondent</th>\n      <th>MainBranch</th>\n      <th>Hobbyist</th>\n      <th>Age</th>\n      <th>Age1stCode</th>\n      <th>CompFreq</th>\n      <th>CompTotal</th>\n      <th>ConvertedComp</th>\n      <th>Country</th>\n      <th>CurrencyDesc</th>\n      <th>...</th>\n      <th>SurveyEase</th>\n      <th>SurveyLength</th>\n      <th>Trans</th>\n      <th>UndergradMajor</th>\n      <th>WebframeDesireNextYear</th>\n      <th>WebframeWorkedWith</th>\n      <th>WelcomeChange</th>\n      <th>WorkWeekHrs</th>\n      <th>YearsCode</th>\n      <th>YearsCodePro</th>\n    </tr>\n  </thead>\n  <tbody>\n    <tr>\n      <th>64451</th>\n      <td>64104</td>\n      <td>NaN</td>\n      <td>Yes</td>\n      <td>NaN</td>\n      <td>19</td>\n      <td>NaN</td>\n      <td>NaN</td>\n      <td>NaN</td>\n      <td>Poland</td>\n      <td>NaN</td>\n      <td>...</td>\n      <td>NaN</td>\n      <td>NaN</td>\n      <td>NaN</td>\n      <td>Another engineering discipline (such as civil,...</td>\n      <td>NaN</td>\n      <td>NaN</td>\n      <td>NaN</td>\n      <td>NaN</td>\n      <td>2</td>\n      <td>NaN</td>\n    </tr>\n    <tr>\n      <th>64452</th>\n      <td>64236</td>\n      <td>NaN</td>\n      <td>Yes</td>\n      <td>NaN</td>\n      <td>NaN</td>\n      <td>NaN</td>\n      <td>NaN</td>\n      <td>NaN</td>\n      <td>India</td>\n      <td>NaN</td>\n      <td>...</td>\n      <td>NaN</td>\n      <td>NaN</td>\n      <td>NaN</td>\n      <td>NaN</td>\n      <td>NaN</td>\n      <td>NaN</td>\n      <td>NaN</td>\n      <td>NaN</td>\n      <td>NaN</td>\n      <td>NaN</td>\n    </tr>\n    <tr>\n      <th>64453</th>\n      <td>64330</td>\n      <td>NaN</td>\n      <td>Yes</td>\n      <td>NaN</td>\n      <td>5</td>\n      <td>NaN</td>\n      <td>NaN</td>\n      <td>NaN</td>\n      <td>Thailand</td>\n      <td>NaN</td>\n      <td>...</td>\n      <td>NaN</td>\n      <td>NaN</td>\n      <td>NaN</td>\n      <td>NaN</td>\n      <td>NaN</td>\n      <td>NaN</td>\n      <td>NaN</td>\n      <td>NaN</td>\n      <td>3</td>\n      <td>NaN</td>\n    </tr>\n    <tr>\n      <th>64454</th>\n      <td>64480</td>\n      <td>NaN</td>\n      <td>Yes</td>\n      <td>NaN</td>\n      <td>21</td>\n      <td>NaN</td>\n      <td>NaN</td>\n      <td>NaN</td>\n      <td>Morocco</td>\n      <td>NaN</td>\n      <td>...</td>\n      <td>NaN</td>\n      <td>NaN</td>\n      <td>NaN</td>\n      <td>NaN</td>\n      <td>NaN</td>\n      <td>NaN</td>\n      <td>Just as welcome now as I felt last year</td>\n      <td>NaN</td>\n      <td>3</td>\n      <td>NaN</td>\n    </tr>\n    <tr>\n      <th>64455</th>\n      <td>64567</td>\n      <td>NaN</td>\n      <td>Yes</td>\n      <td>NaN</td>\n      <td>NaN</td>\n      <td>NaN</td>\n      <td>NaN</td>\n      <td>NaN</td>\n      <td>Netherlands</td>\n      <td>NaN</td>\n      <td>...</td>\n      <td>NaN</td>\n      <td>NaN</td>\n      <td>NaN</td>\n      <td>NaN</td>\n      <td>NaN</td>\n      <td>ASP.NET Core</td>\n      <td>NaN</td>\n      <td>NaN</td>\n      <td>NaN</td>\n      <td>NaN</td>\n    </tr>\n    <tr>\n      <th>64456</th>\n      <td>64858</td>\n      <td>NaN</td>\n      <td>Yes</td>\n      <td>NaN</td>\n      <td>16</td>\n      <td>NaN</td>\n      <td>NaN</td>\n      <td>NaN</td>\n      <td>United States</td>\n      <td>NaN</td>\n      <td>...</td>\n      <td>NaN</td>\n      <td>NaN</td>\n      <td>NaN</td>\n      <td>Computer science, computer engineering, or sof...</td>\n      <td>NaN</td>\n      <td>NaN</td>\n      <td>NaN</td>\n      <td>NaN</td>\n      <td>10</td>\n      <td>Less than 1 year</td>\n    </tr>\n    <tr>\n      <th>64457</th>\n      <td>64867</td>\n      <td>NaN</td>\n      <td>Yes</td>\n      <td>NaN</td>\n      <td>NaN</td>\n      <td>NaN</td>\n      <td>NaN</td>\n      <td>NaN</td>\n      <td>Morocco</td>\n      <td>NaN</td>\n      <td>...</td>\n      <td>NaN</td>\n      <td>NaN</td>\n      <td>NaN</td>\n      <td>NaN</td>\n      <td>NaN</td>\n      <td>NaN</td>\n      <td>NaN</td>\n      <td>NaN</td>\n      <td>NaN</td>\n      <td>NaN</td>\n    </tr>\n    <tr>\n      <th>64458</th>\n      <td>64898</td>\n      <td>NaN</td>\n      <td>Yes</td>\n      <td>NaN</td>\n      <td>NaN</td>\n      <td>NaN</td>\n      <td>NaN</td>\n      <td>NaN</td>\n      <td>Viet Nam</td>\n      <td>NaN</td>\n      <td>...</td>\n      <td>NaN</td>\n      <td>NaN</td>\n      <td>NaN</td>\n      <td>NaN</td>\n      <td>NaN</td>\n      <td>NaN</td>\n      <td>NaN</td>\n      <td>NaN</td>\n      <td>NaN</td>\n      <td>NaN</td>\n    </tr>\n    <tr>\n      <th>64459</th>\n      <td>64925</td>\n      <td>NaN</td>\n      <td>Yes</td>\n      <td>NaN</td>\n      <td>NaN</td>\n      <td>NaN</td>\n      <td>NaN</td>\n      <td>NaN</td>\n      <td>Poland</td>\n      <td>NaN</td>\n      <td>...</td>\n      <td>NaN</td>\n      <td>NaN</td>\n      <td>NaN</td>\n      <td>NaN</td>\n      <td>Angular;Angular.js;React.js</td>\n      <td>NaN</td>\n      <td>NaN</td>\n      <td>NaN</td>\n      <td>NaN</td>\n      <td>NaN</td>\n    </tr>\n    <tr>\n      <th>64460</th>\n      <td>65112</td>\n      <td>NaN</td>\n      <td>Yes</td>\n      <td>NaN</td>\n      <td>NaN</td>\n      <td>NaN</td>\n      <td>NaN</td>\n      <td>NaN</td>\n      <td>Spain</td>\n      <td>NaN</td>\n      <td>...</td>\n      <td>NaN</td>\n      <td>NaN</td>\n      <td>NaN</td>\n      <td>Computer science, computer engineering, or sof...</td>\n      <td>ASP.NET Core;jQuery</td>\n      <td>Angular;Angular.js;ASP.NET Core;jQuery</td>\n      <td>NaN</td>\n      <td>NaN</td>\n      <td>NaN</td>\n      <td>NaN</td>\n    </tr>\n  </tbody>\n</table>\n<p>10 rows × 61 columns</p>\n</div>"
     },
     "metadata": {},
     "execution_count": 2
    }
   ],
   "source": [
    "df = pd.read_csv('stack\\survey_results_public.csv')\n",
    "# pd.set_option('display.max_row',100)\n",
    "# max_row set too 100 to see first 100 rows\n",
    "df.head(20)\n",
    "# df.head(argument i.e no of rows) used to see no of first n no of rows\n",
    "df.tail(10)\n",
    "# tail method used to see last row data"
   ]
  },
  {
   "cell_type": "code",
   "execution_count": 3,
   "metadata": {},
   "outputs": [
    {
     "output_type": "execute_result",
     "data": {
      "text/plain": "         Respondent           Age      CompTotal  ConvertedComp   WorkWeekHrs\ncount  64461.000000  45446.000000   3.482600e+04   3.475600e+04  41151.000000\nmean   32554.079738     30.834111  3.190464e+242   1.037561e+05     40.782174\nstd    18967.442360      9.585392            inf   2.268853e+05     17.816383\nmin        1.000000      1.000000   0.000000e+00   0.000000e+00      1.000000\n25%    16116.000000     24.000000   2.000000e+04   2.464800e+04     40.000000\n50%    32231.000000     29.000000   6.300000e+04   5.404900e+04     40.000000\n75%    49142.000000     35.000000   1.250000e+05   9.500000e+04     44.000000\nmax    65639.000000    279.000000  1.111111e+247   2.000000e+06    475.000000",
      "text/html": "<div>\n<style scoped>\n    .dataframe tbody tr th:only-of-type {\n        vertical-align: middle;\n    }\n\n    .dataframe tbody tr th {\n        vertical-align: top;\n    }\n\n    .dataframe thead th {\n        text-align: right;\n    }\n</style>\n<table border=\"1\" class=\"dataframe\">\n  <thead>\n    <tr style=\"text-align: right;\">\n      <th></th>\n      <th>Respondent</th>\n      <th>Age</th>\n      <th>CompTotal</th>\n      <th>ConvertedComp</th>\n      <th>WorkWeekHrs</th>\n    </tr>\n  </thead>\n  <tbody>\n    <tr>\n      <th>count</th>\n      <td>64461.000000</td>\n      <td>45446.000000</td>\n      <td>3.482600e+04</td>\n      <td>3.475600e+04</td>\n      <td>41151.000000</td>\n    </tr>\n    <tr>\n      <th>mean</th>\n      <td>32554.079738</td>\n      <td>30.834111</td>\n      <td>3.190464e+242</td>\n      <td>1.037561e+05</td>\n      <td>40.782174</td>\n    </tr>\n    <tr>\n      <th>std</th>\n      <td>18967.442360</td>\n      <td>9.585392</td>\n      <td>inf</td>\n      <td>2.268853e+05</td>\n      <td>17.816383</td>\n    </tr>\n    <tr>\n      <th>min</th>\n      <td>1.000000</td>\n      <td>1.000000</td>\n      <td>0.000000e+00</td>\n      <td>0.000000e+00</td>\n      <td>1.000000</td>\n    </tr>\n    <tr>\n      <th>25%</th>\n      <td>16116.000000</td>\n      <td>24.000000</td>\n      <td>2.000000e+04</td>\n      <td>2.464800e+04</td>\n      <td>40.000000</td>\n    </tr>\n    <tr>\n      <th>50%</th>\n      <td>32231.000000</td>\n      <td>29.000000</td>\n      <td>6.300000e+04</td>\n      <td>5.404900e+04</td>\n      <td>40.000000</td>\n    </tr>\n    <tr>\n      <th>75%</th>\n      <td>49142.000000</td>\n      <td>35.000000</td>\n      <td>1.250000e+05</td>\n      <td>9.500000e+04</td>\n      <td>44.000000</td>\n    </tr>\n    <tr>\n      <th>max</th>\n      <td>65639.000000</td>\n      <td>279.000000</td>\n      <td>1.111111e+247</td>\n      <td>2.000000e+06</td>\n      <td>475.000000</td>\n    </tr>\n  </tbody>\n</table>\n</div>"
     },
     "metadata": {},
     "execution_count": 3
    }
   ],
   "source": [
    "df.describe()"
   ]
  },
  {
   "cell_type": "code",
   "execution_count": 4,
   "metadata": {
    "tags": []
   },
   "outputs": [
    {
     "output_type": "stream",
     "name": "stdout",
     "text": "<class 'pandas.core.frame.DataFrame'>\nRangeIndex: 64461 entries, 0 to 64460\nData columns (total 61 columns):\n #   Column                        Non-Null Count  Dtype  \n---  ------                        --------------  -----  \n 0   Respondent                    64461 non-null  int64  \n 1   MainBranch                    64162 non-null  object \n 2   Hobbyist                      64416 non-null  object \n 3   Age                           45446 non-null  float64\n 4   Age1stCode                    57900 non-null  object \n 5   CompFreq                      40069 non-null  object \n 6   CompTotal                     34826 non-null  float64\n 7   ConvertedComp                 34756 non-null  float64\n 8   Country                       64072 non-null  object \n 9   CurrencyDesc                  45472 non-null  object \n 10  CurrencySymbol                45472 non-null  object \n 11  DatabaseDesireNextYear        44070 non-null  object \n 12  DatabaseWorkedWith            49537 non-null  object \n 13  DevType                       49370 non-null  object \n 14  EdLevel                       57431 non-null  object \n 15  Employment                    63854 non-null  object \n 16  Ethnicity                     45948 non-null  object \n 17  Gender                        50557 non-null  object \n 18  JobFactors                    49349 non-null  object \n 19  JobSat                        45194 non-null  object \n 20  JobSeek                       51727 non-null  object \n 21  LanguageDesireNextYear        54113 non-null  object \n 22  LanguageWorkedWith            57378 non-null  object \n 23  MiscTechDesireNextYear        42379 non-null  object \n 24  MiscTechWorkedWith            40314 non-null  object \n 25  NEWCollabToolsDesireNextYear  47287 non-null  object \n 26  NEWCollabToolsWorkedWith      52883 non-null  object \n 27  NEWDevOps                     42686 non-null  object \n 28  NEWDevOpsImpt                 41732 non-null  object \n 29  NEWEdImpt                     48465 non-null  object \n 30  NEWJobHunt                    42286 non-null  object \n 31  NEWJobHuntResearch            41022 non-null  object \n 32  NEWLearn                      56156 non-null  object \n 33  NEWOffTopic                   50804 non-null  object \n 34  NEWOnboardGood                42623 non-null  object \n 35  NEWOtherComms                 57205 non-null  object \n 36  NEWOvertime                   43231 non-null  object \n 37  NEWPurchaseResearch           37321 non-null  object \n 38  NEWPurpleLink                 54803 non-null  object \n 39  NEWSOSites                    58275 non-null  object \n 40  NEWStuck                      54983 non-null  object \n 41  OpSys                         56228 non-null  object \n 42  OrgSize                       44334 non-null  object \n 43  PlatformDesireNextYear        50605 non-null  object \n 44  PlatformWorkedWith            53843 non-null  object \n 45  PurchaseWhat                  39364 non-null  object \n 46  Sexuality                     43992 non-null  object \n 47  SOAccount                     56805 non-null  object \n 48  SOComm                        56476 non-null  object \n 49  SOPartFreq                    46792 non-null  object \n 50  SOVisitFreq                   56970 non-null  object \n 51  SurveyEase                    51802 non-null  object \n 52  SurveyLength                  51701 non-null  object \n 53  Trans                         49345 non-null  object \n 54  UndergradMajor                50995 non-null  object \n 55  WebframeDesireNextYear        40024 non-null  object \n 56  WebframeWorkedWith            42279 non-null  object \n 57  WelcomeChange                 52683 non-null  object \n 58  WorkWeekHrs                   41151 non-null  float64\n 59  YearsCode                     57684 non-null  object \n 60  YearsCodePro                  46349 non-null  object \ndtypes: float64(4), int64(1), object(56)\nmemory usage: 30.0+ MB\n"
    }
   ],
   "source": [
    "df.info()\n",
    "# object == string in this data,,,,,, printed columns"
   ]
  },
  {
   "cell_type": "code",
   "execution_count": 5,
   "metadata": {},
   "outputs": [
    {
     "output_type": "execute_result",
     "data": {
      "text/plain": "(64461, 61)"
     },
     "metadata": {},
     "execution_count": 5
    }
   ],
   "source": [
    "df.shape"
   ]
  },
  {
   "cell_type": "code",
   "execution_count": 6,
   "metadata": {},
   "outputs": [],
   "source": [
    "pd.set_option('display.max_column', 61)\n",
    "# this code is used to visualize all the columns nj the data frames in cell 2 & here 61 means total no of columns i.e got from df.shape"
   ]
  },
  {
   "cell_type": "code",
   "execution_count": 7,
   "metadata": {
    "tags": []
   },
   "outputs": [
    {
     "output_type": "execute_result",
     "data": {
      "text/plain": "                Column                                       QuestionText\n0           Respondent  Randomized respondent ID number (not in order ...\n1           MainBranch  Which of the following options best describes ...\n2             Hobbyist                            Do you code as a hobby?\n3                  Age  What is your age (in years)? If you prefer not...\n4           Age1stCode  At what age did you write your first line of c...\n..                 ...                                                ...\n56  WebframeWorkedWith  Which web frameworks have you done extensive d...\n57       WelcomeChange  Compared to last year, how welcome do you feel...\n58         WorkWeekHrs  On average, how many hours per week do you wor...\n59           YearsCode  Including any education, how many years have y...\n60        YearsCodePro  NOT including education, how many years have y...\n\n[61 rows x 2 columns]",
      "text/html": "<div>\n<style scoped>\n    .dataframe tbody tr th:only-of-type {\n        vertical-align: middle;\n    }\n\n    .dataframe tbody tr th {\n        vertical-align: top;\n    }\n\n    .dataframe thead th {\n        text-align: right;\n    }\n</style>\n<table border=\"1\" class=\"dataframe\">\n  <thead>\n    <tr style=\"text-align: right;\">\n      <th></th>\n      <th>Column</th>\n      <th>QuestionText</th>\n    </tr>\n  </thead>\n  <tbody>\n    <tr>\n      <th>0</th>\n      <td>Respondent</td>\n      <td>Randomized respondent ID number (not in order ...</td>\n    </tr>\n    <tr>\n      <th>1</th>\n      <td>MainBranch</td>\n      <td>Which of the following options best describes ...</td>\n    </tr>\n    <tr>\n      <th>2</th>\n      <td>Hobbyist</td>\n      <td>Do you code as a hobby?</td>\n    </tr>\n    <tr>\n      <th>3</th>\n      <td>Age</td>\n      <td>What is your age (in years)? If you prefer not...</td>\n    </tr>\n    <tr>\n      <th>4</th>\n      <td>Age1stCode</td>\n      <td>At what age did you write your first line of c...</td>\n    </tr>\n    <tr>\n      <th>...</th>\n      <td>...</td>\n      <td>...</td>\n    </tr>\n    <tr>\n      <th>56</th>\n      <td>WebframeWorkedWith</td>\n      <td>Which web frameworks have you done extensive d...</td>\n    </tr>\n    <tr>\n      <th>57</th>\n      <td>WelcomeChange</td>\n      <td>Compared to last year, how welcome do you feel...</td>\n    </tr>\n    <tr>\n      <th>58</th>\n      <td>WorkWeekHrs</td>\n      <td>On average, how many hours per week do you wor...</td>\n    </tr>\n    <tr>\n      <th>59</th>\n      <td>YearsCode</td>\n      <td>Including any education, how many years have y...</td>\n    </tr>\n    <tr>\n      <th>60</th>\n      <td>YearsCodePro</td>\n      <td>NOT including education, how many years have y...</td>\n    </tr>\n  </tbody>\n</table>\n<p>61 rows × 2 columns</p>\n</div>"
     },
     "metadata": {},
     "execution_count": 7
    }
   ],
   "source": [
    "schema_df = pd.read_csv('stack\\survey_results_schema.csv')\n",
    "# pd.set_option('display.max_row', 61)\n",
    "# here i used display.ax_row in set_option because the column details of survey-result_public stored in row of survey-result_chema\n",
    "schema_df"
   ]
  },
  {
   "cell_type": "code",
   "execution_count": null,
   "metadata": {},
   "outputs": [],
   "source": []
  }
 ]
}