{
 "metadata": {
  "language_info": {
   "codemirror_mode": {
    "name": "ipython",
    "version": 3
   },
   "file_extension": ".py",
   "mimetype": "text/x-python",
   "name": "python",
   "nbconvert_exporter": "python",
   "pygments_lexer": "ipython3",
   "version": "3.8.3-final"
  },
  "orig_nbformat": 2,
  "kernelspec": {
   "name": "python3",
   "display_name": "Python 3"
  }
 },
 "nbformat": 4,
 "nbformat_minor": 2,
 "cells": [
  {
   "cell_type": "code",
   "execution_count": 1,
   "metadata": {
    "tags": []
   },
   "outputs": [],
   "source": [
    "import pandas as pd\n",
    "from sklearn.tree import DecisionTreeClassifier\n",
    "# from sklearn.model_selection import train_test_split\n",
    "# from sklearn.metrics import accuracy_score\n",
    "# import joblib #by using python 3.8 ay be not working in python 3.7 for 3.7 = from sklearn.systems import joblib or you may check your sklearn library\n",
    "from sklearn import tree\n",
    "music_data = pd.read_csv('music.csv')\n",
    "X=music_data.drop(columns = ['genre'])\n",
    "Y=music_data['genre']\n",
    "# X_train, X_test, Y_train, Y_test = train_test_split(X, Y, test_size= 0.20)\n",
    "\n",
    "model = DecisionTreeClassifier()\n",
    "model.fit(X,Y)\n",
    "# model.fit(X_train,Y_train)\n",
    "# predict = model.predict(X_test)\n",
    "\n",
    "# # score = accuracy_score(Y_test, predict)\n",
    "# # score\n",
    "\n",
    "# #trained joblib file creation_which can predict music with the input data\n",
    "# # joblib.dump(model, \"music-recomander.joblib\")\n",
    "# joblib.dump(model, 'music-recomander.joblib')\n",
    "\n",
    "# testing machine by loading machine\n",
    "# ==============================================================\n",
    "# joblib.load('music-recomander.joblib')\n",
    "# prediction = model.predict([[21,1]])\n",
    "# prediction\n",
    "tree.export_graphviz(model, out_file= 'music-recomander.dot',\n",
    "                    feature_names=['age', 'gender'],\n",
    "                    class_names=sorted(Y.unique()),\n",
    "                    label='all',\n",
    "                    rounded=True,\n",
    "                    filled=True)"
   ]
  },
  {
   "cell_type": "code",
   "execution_count": null,
   "metadata": {},
   "outputs": [],
   "source": []
  }
 ]
}